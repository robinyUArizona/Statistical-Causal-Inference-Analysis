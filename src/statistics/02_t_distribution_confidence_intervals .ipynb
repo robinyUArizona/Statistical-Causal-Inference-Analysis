{
 "cells": [
  {
   "cell_type": "markdown",
   "metadata": {},
   "source": []
  },
  {
   "cell_type": "code",
   "execution_count": 1,
   "metadata": {},
   "outputs": [],
   "source": [
    "import csv\n",
    "import os\n",
    "\n",
    "## Function for Mean\n",
    "def getMean(sampleList):\n",
    "    sampleSize = len(sampleList)\n",
    "    totalSumIncome = 0\n",
    "    for row in sampleList:\n",
    "        totalSumIncome = row + totalSumIncome\n",
    "    mean = totalSumIncome / sampleSize\n",
    "    return mean\n",
    "\n",
    "## Function target sample Standard Deviation\n",
    "def getSampleSD(sampleList):\n",
    "    mean = getMean(sampleList)\n",
    "    sumOfSquares = 0\n",
    "    sampleSize = len(sampleList)\n",
    "    for row in sampleList:\n",
    "        deviationScore = row - mean\n",
    "        sumOfSquares = deviationScore**2 + sumOfSquares\n",
    "    \n",
    "    variance = sumOfSquares / (sampleSize-1)\n",
    "    sampleSD = variance**0.5\n",
    "    return sampleSD\n",
    "\n",
    "## Sample Standard Error\n",
    "def getSampleStandardError(sampleList):\n",
    "    sampleSize = len(sampleList)\n",
    "    sampleSD = getSampleSD(sampleList)\n",
    "    # standard error of the mean for the population\n",
    "    SSE = sampleSD / sampleSize**0.5\n",
    "    return SSE"
   ]
  },
  {
   "cell_type": "code",
   "execution_count": 2,
   "metadata": {},
   "outputs": [],
   "source": [
    "\n",
    "# def getCriticalT(alpha, sampleList):\n",
    "#     sampleSize = len(sampleList)\n",
    "#     df = sampleSize - 1\n",
    "#     criticalT = 0\n",
    "#     with open('data/t_table.csv', newline='') as tFile:\n",
    "#         tData = csv.reader(tFile)\n",
    "#         for row in tData:\n",
    "#             if int(row[0]) == df:\n",
    "#                 if float(row[2]) >= (float(1-(alpha/2))):\n",
    "#                     criticalT = float(row[1])\n",
    "#                     break\n",
    "#     print(criticalT)\n",
    "#     return criticalT\n",
    "\n",
    "def getCriticalT(alpha, sampleList):\n",
    "    sampleSize = len(sampleList)\n",
    "    df = sampleSize - 1\n",
    "    if df > 120:\n",
    "        df = 120\n",
    "    criticalT = 0\n",
    "    folder_path = r\"..\\..\\data\"\n",
    "    csv_file_path = os.path.join(folder_path, \"t_table.csv\")\n",
    "    with open(csv_file_path, newline='') as tFile:\n",
    "        tData = csv.reader(tFile)\n",
    "        for row in tData:\n",
    "            if int(row[0]) == df:\n",
    "                if float(row[2]) >= (float(1-(alpha/2))):\n",
    "                    criticalT = float(row[1])\n",
    "                    break\n",
    "    return criticalT"
   ]
  },
  {
   "cell_type": "code",
   "execution_count": 3,
   "metadata": {},
   "outputs": [],
   "source": [
    "##\n",
    "def getCI(sampleList, alpha):\n",
    "    mean = getMean(sampleList)\n",
    "    SSE = getSampleStandardError(sampleList)\n",
    "    critT = getCriticalT(alpha, sampleList)\n",
    "    print('Critical T:', critT)\n",
    "    lowerCI = mean - critT * SSE\n",
    "    upperCI = mean + critT * SSE\n",
    "    return lowerCI, upperCI"
   ]
  },
  {
   "cell_type": "code",
   "execution_count": 4,
   "metadata": {},
   "outputs": [],
   "source": [
    "##\n",
    "incomeData = []\n",
    "folder_path = r\"..\\..\\data\"\n",
    "csv_file_path = os.path.join(folder_path, \"usa.csv\")\n",
    "with open(csv_file_path, newline='') as myFile:\n",
    "    data = csv.reader(myFile)\n",
    "    for row in data:\n",
    "        if row[6] != 'INCTOT':\n",
    "            if int(row[6]) > 1:\n",
    "                if int(row[6]) != 9999999:\n",
    "                    if int(row[1]) > 17:\n",
    "                        incomeData.append(int(row[6]))"
   ]
  },
  {
   "cell_type": "code",
   "execution_count": 5,
   "metadata": {},
   "outputs": [
    {
     "name": "stdout",
     "output_type": "stream",
     "text": [
      "Critical T: 1.98\n",
      "The 95% CI for the sample is 47412.94 to 47580.24\n"
     ]
    }
   ],
   "source": [
    "##\n",
    "import random\n",
    "incomeSample = random.sample(incomeData, 100)\n",
    "alpha = 0.05\n",
    "lower, upper = getCI(incomeData, alpha)\n",
    "print('The 95% CI for the sample is', round(lower, 2), 'to', round(upper, 2))"
   ]
  },
  {
   "cell_type": "code",
   "execution_count": null,
   "metadata": {},
   "outputs": [],
   "source": []
  },
  {
   "cell_type": "code",
   "execution_count": 6,
   "metadata": {},
   "outputs": [],
   "source": [
    "##\n",
    "def getCI(sampleList, alpha):\n",
    "    mean = getMean(sampleList)\n",
    "    SSE = getSampleStandardError(sampleList)\n",
    "    critT = getCriticalT(alpha, sampleList)\n",
    "    print('Critical T:', critT)\n",
    "    lowerCI = mean - critT * SSE\n",
    "    upperCI = mean + critT * SSE\n",
    "    error = critT*SSE\n",
    "    return lowerCI, upperCI, error"
   ]
  },
  {
   "cell_type": "code",
   "execution_count": 7,
   "metadata": {},
   "outputs": [],
   "source": [
    "# ['SEX', 'AGE', 'RACE', 'RACED', 'EDUC', 'EDUCD', 'INCTOT']\n",
    "# [ 0      1       2        3        4       5        6]\n",
    "\n",
    "#SEX - 1 male, 2 female\n",
    "#Race - 1 white, 2 black, 3\n",
    "\n",
    "incomeDataMale = []\n",
    "incomeDataFemale = []\n",
    "folder_path = r\"..\\..\\data\"\n",
    "csv_file_path = os.path.join(folder_path, \"usa.csv\")\n",
    "with open(csv_file_path, newline='') as myFile:\n",
    "    data = csv.reader(myFile)\n",
    "    for row in data:\n",
    "        if row[6] != 'INCTOT':\n",
    "            if int(row[6]) > 1:\n",
    "                if int(row[6]) != 999999:\n",
    "                    if int(row[1]) > 17:\n",
    "                        # Get male and female incomes\n",
    "                        if int(row[0]) == 1:\n",
    "                            incomeDataMale.append(int(row[6]))\n",
    "                        if int(row[0]) == 2:\n",
    "                            incomeDataFemale.append(int(row[6]))"
   ]
  },
  {
   "cell_type": "code",
   "execution_count": 8,
   "metadata": {},
   "outputs": [
    {
     "name": "stdout",
     "output_type": "stream",
     "text": [
      "Critical T: 2.01\n",
      "Critical T: 2.01\n",
      "The 95% CI for the male income sample is 32543.04 to 56758.16\n",
      "The mean income for the male sample is 44650.6\n",
      "The 95% CI for the female income sample is 22923.87 to 40770.53\n",
      "The mean income for the female sample is 31847.2\n"
     ]
    }
   ],
   "source": [
    "import random\n",
    "maleIncomeSample = random.sample(incomeDataMale, 50)\n",
    "femaleIncomeSample = random.sample(incomeDataFemale, 50)\n",
    "\n",
    "alpha = 0.05\n",
    "\n",
    "maleLower, maleUpper, maleError = getCI(maleIncomeSample, alpha)\n",
    "femaleLower, femaleUpper, femaleError = getCI(femaleIncomeSample, alpha)\n",
    "\n",
    "maleIncomeMean = getMean(maleIncomeSample)\n",
    "femaleIncomeMean = getMean(femaleIncomeSample)\n",
    "\n",
    "print('The 95% CI for the male income sample is', round(maleLower, 2), 'to', round(maleUpper, 2))\n",
    "print('The mean income for the male sample is', round(maleIncomeMean, 2))\n",
    "\n",
    "print('The 95% CI for the female income sample is', round(femaleLower, 2), 'to', round(femaleUpper, 2))\n",
    "print('The mean income for the female sample is', round(femaleIncomeMean, 2))"
   ]
  },
  {
   "cell_type": "code",
   "execution_count": 9,
   "metadata": {},
   "outputs": [
    {
     "data": {
      "image/png": "[encoded data removed]",
      "text/plain": [
       "<Figure size 640x480 with 1 Axes>"
      ]
     },
     "metadata": {},
     "output_type": "display_data"
    }
   ],
   "source": [
    "## Plot\n",
    "import matplotlib.pyplot as plt\n",
    "# print(plt.style.available)\n",
    "plt.style.use('bmh')\n",
    "\n",
    "labels = ['Male Income', 'Female Income']\n",
    "means = [maleIncomeMean, femaleIncomeMean]\n",
    "CIs = [maleError, femaleError]\n",
    "positions = [0, 1]\n",
    "\n",
    "plt.bar(positions, means, color='grey', yerr=CIs, width=0.5,\n",
    "       align='center', ecolor='black', capsize=5)\n",
    "plt.xlabel('Sample Incomes')\n",
    "plt.ylabel('Mean Income($)')\n",
    "plt.title('Mean Income Between Male and Female Samples')\n",
    "plt.xticks(positions, labels)\n",
    "plt.show()"
   ]
  }
 ],
 "metadata": {
  "kernelspec": {
   "display_name": "Python 3",
   "language": "python",
   "name": "python3"
  },
  "language_info": {
   "codemirror_mode": {
    "name": "ipython",
    "version": 3
   },
   "file_extension": ".py",
   "mimetype": "text/x-python",
   "name": "python",
   "nbconvert_exporter": "python",
   "pygments_lexer": "ipython3",
   "version": "3.10.15"
  }
 },
 "nbformat": 4,
 "nbformat_minor": 4
}
