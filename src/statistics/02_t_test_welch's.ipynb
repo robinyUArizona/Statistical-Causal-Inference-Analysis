{
 "cells": [
  {
   "cell_type": "code",
   "execution_count": 11,
   "metadata": {},
   "outputs": [],
   "source": [
    "import csv\n",
    "import os\n",
    "\n",
    "## Function for Mean\n",
    "def getMean(sample):\n",
    "    sampleSize = len(sample)\n",
    "    totalSumIncome = 0\n",
    "    for row in sample:\n",
    "        totalSumIncome = row + totalSumIncome\n",
    "    mean = totalSumIncome / sampleSize\n",
    "    return mean\n",
    "\n",
    "## Function target sample variance\n",
    "def getSampleVariance(sample):\n",
    "    mean = getMean(sample)\n",
    "    sumOfSquares = 0\n",
    "    sampleSize = len(sample)\n",
    "    for row in sample:\n",
    "        deviationScore = row - mean\n",
    "        sumOfSquares = deviationScore**2 + sumOfSquares\n",
    "    variance = sumOfSquares / (sampleSize-1)\n",
    "    return variance\n",
    "\n",
    "## Function target sample Standard Deviation\n",
    "def getSampleSD(sample):\n",
    "    mean = getMean(sample)\n",
    "    sumOfSquares = 0\n",
    "    sampleSize = len(sample)\n",
    "    for row in sample:\n",
    "        deviationScore = row - mean\n",
    "        sumOfSquares = deviationScore**2 + sumOfSquares\n",
    "    \n",
    "    variance = sumOfSquares / (sampleSize-1)\n",
    "    sampleSD = variance**0.5\n",
    "    return sampleSD\n",
    "\n",
    "## Sample Standard Error\n",
    "def getSampleStandardError(sample):\n",
    "    sampleSize = len(sample)\n",
    "    sampleSD = getSampleSD(sample)\n",
    "    # standard error of the mean for the population\n",
    "    SSE = sampleSD / sampleSize**0.5\n",
    "    return SSE"
   ]
  },
  {
   "cell_type": "code",
   "execution_count": 12,
   "metadata": {},
   "outputs": [],
   "source": [
    "## New\n",
    "def getDeltaSD(sample1, sample2):\n",
    "    sampleSize1 = len(sample1)\n",
    "    sampleSize2 = len(sample2)\n",
    "    variance1 = getSampleVariance(sample1)\n",
    "    variance2 = getSampleVariance(sample2)\n",
    "    \n",
    "    deltaSD = (variance1/sampleSize1 + variance2/sampleSize2)**0.5\n",
    "    return deltaSD"
   ]
  },
  {
   "cell_type": "code",
   "execution_count": 13,
   "metadata": {},
   "outputs": [],
   "source": [
    "# pooled degrees of freedom. Also called the Welch-Scatterthwaite equation\n",
    "def getPooledDF(sample1, sample2):\n",
    "    sampleSize1 = len(sample1)\n",
    "    sampleSize2 = len(sample2)\n",
    "    variance1 = getSampleVariance(sample1)\n",
    "    variance2 = getSampleVariance(sample2)\n",
    "    \n",
    "    numerator = (variance1/sampleSize1 + variance2/sampleSize2)**2\n",
    "    d1 = ((variance1/sampleSize1)**2)/(sampleSize1 - 1)\n",
    "    d2 = ((variance2/sampleSize2)**2)/(sampleSize2 - 1)\n",
    "    denominator = d1 + d2\n",
    "    df = numerator/denominator\n",
    "    return df\n"
   ]
  },
  {
   "cell_type": "code",
   "execution_count": 14,
   "metadata": {},
   "outputs": [],
   "source": [
    "## Welch's t-test for when two population variances are not assumed to be equal\n",
    "def unequalVarianceTScore(sample1, sample2):\n",
    "    mean1 = getMean(sample1)\n",
    "    mean2 = getMean(sample2)\n",
    "    deltaSD = getDeltaSD(sample1, sample2)\n",
    "    t = (mean1 - mean2)/deltaSD\n",
    "    return t"
   ]
  },
  {
   "cell_type": "code",
   "execution_count": 15,
   "metadata": {},
   "outputs": [],
   "source": [
    "# Getting \n",
    "def getCriticalT(alpha, df, testType = 'two-tailed'):\n",
    "    df = round(df)\n",
    "    if df > 120:\n",
    "        df = 120\n",
    "    criticalT = 0\n",
    "    \n",
    "    if testType == 'two-tailed':\n",
    "        folder_path = r\"C:\\Users\\yrobi\\Desktop\\Robin World\\Data Science - Machine Learning Prep\\1A - Statistics\\Statistical_Causal_Inference_Analysis\\data\"\n",
    "        csv_file_path = os.path.join(folder_path, \"t_table.csv\")\n",
    "        with open(csv_file_path, newline='') as tFile:\n",
    "            tData = csv.reader(tFile)\n",
    "            for row in tData:\n",
    "                if int(row[0]) == df:\n",
    "                    if float(row[2]) >= (float(1-(alpha/2))):\n",
    "                        criticalT = float(row[1])\n",
    "                        break\n",
    "   \n",
    "    elif testType == 'one-tailed positive':\n",
    "        folder_path = r\"C:\\Users\\yrobi\\Desktop\\Robin World\\Data Science - Machine Learning Prep\\1A - Statistics\\Statistical_Causal_Inference_Analysis\\data\"\n",
    "        csv_file_path = os.path.join(folder_path, \"t_table.csv\")\n",
    "        with open(csv_file_path, newline='') as tFile:\n",
    "            tData = csv.reader(tFile)\n",
    "            for row in tData:\n",
    "                if int(row[0]) == df:\n",
    "                    if float(row[2]) >= (float(1-(alpha))):\n",
    "                        criticalT = float(row[1])\n",
    "                        break\n",
    "\n",
    "    elif testType == 'one-tailed negative':\n",
    "        folder_path = r\"C:\\Users\\yrobi\\Desktop\\Robin World\\Data Science - Machine Learning Prep\\1A - Statistics\\Statistical_Causal_Inference_Analysis\\data\"\n",
    "        csv_file_path = os.path.join(folder_path, \"t_table.csv\")\n",
    "        with open(csv_file_path, newline='') as tFile:\n",
    "            tData = csv.reader(tFile)\n",
    "            for row in tData:\n",
    "                if int(row[0]) == df:\n",
    "                    if float(row[2]) >= (float(alpha)):\n",
    "                        criticalT = float(row[1])\n",
    "                        break\n",
    "    return criticalT"
   ]
  },
  {
   "cell_type": "code",
   "execution_count": 16,
   "metadata": {},
   "outputs": [],
   "source": [
    "## p score\n",
    "def getPFromT(t, df):\n",
    "    df = round(df)\n",
    "    if df > 120:\n",
    "        df = 120\n",
    "    if t > 6:\n",
    "        p = 1.0\n",
    "    elif t < -6:\n",
    "        p = 0.0\n",
    "    elif t > -6 and t < 6:\n",
    "        folder_path = r\"C:\\Users\\yrobi\\Desktop\\Robin World\\Data Science - Machine Learning Prep\\1A - Statistics\\Statistical_Causal_Inference_Analysis\\data\"\n",
    "        csv_file_path = os.path.join(folder_path, \"t_table.csv\")\n",
    "        with open(csv_file_path, newline='') as tFile:\n",
    "            tData = csv.reader(tFile)\n",
    "            for row in tData:\n",
    "                if float(row[1]) == round(float(t), 2):\n",
    "                    p = float(row[2])\n",
    "    return p"
   ]
  },
  {
   "cell_type": "code",
   "execution_count": 17,
   "metadata": {},
   "outputs": [],
   "source": [
    "## Rather than something like \"t-test\" we are just calling this significance test\n",
    "def significanceTest(sample1, sample2, alpha, testType='two-tailed'):\n",
    "\n",
    "    ## different from previous videos\n",
    "    df = getPooledDF(sample1, sample2)\n",
    "    critT = getCriticalT(alpha, df, testType)\n",
    "    t = unequalVarianceTScore(sample1, sample2)\n",
    "    p = getPFromT(t, df)\n",
    "    \n",
    "    significant = False\n",
    "    if testType == 'two-tailed':\n",
    "        if t < -critT or t > critT:\n",
    "            significant = True\n",
    "    elif testType == 'one-tailed positive':\n",
    "        if t > critT:\n",
    "            significant = True\n",
    "    elif testType == 'one-tailed negative':\n",
    "        if t < -critT:\n",
    "            significant = True\n",
    "    \n",
    "    return significant, t, critT, p"
   ]
  },
  {
   "cell_type": "code",
   "execution_count": 18,
   "metadata": {},
   "outputs": [],
   "source": [
    "## Same \n",
    "def getCI(sample, alpha):\n",
    "    mean = getMean(sample)\n",
    "    SSE = getSampleStandardError(sample)\n",
    "    df = len(sample) - 1\n",
    "    testType = 'two-tailed'\n",
    "    critT = getCriticalT(alpha, df, testType)\n",
    "    lowerCI = mean - critT*SSE\n",
    "    upperCI = mean + critT*SSE\n",
    "    error = critT*SSE\n",
    "    return lowerCI, upperCI, error"
   ]
  },
  {
   "cell_type": "code",
   "execution_count": 19,
   "metadata": {},
   "outputs": [],
   "source": [
    "## \n",
    "whiteMaleIncome = []\n",
    "whiteFemaleIncome = []\n",
    "\n",
    "folder_path = r\"C:\\Users\\yrobi\\Desktop\\Robin World\\Data Science - Machine Learning Prep\\1A - Statistics\\Statistical_Causal_Inference_Analysis\\data\"\n",
    "csv_file_path = os.path.join(folder_path, \"usa.csv\")\n",
    "with open(csv_file_path, newline='') as myFile:\n",
    "    data = csv.reader(myFile)\n",
    "    for row in data:\n",
    "        if row[6] != 'INCTOT':\n",
    "            if int(row[6]) > 1:\n",
    "                if int(row[6]) != 999999:\n",
    "                    if int(row[1]) > 17:\n",
    "                        if int(row[2]) == 1:\n",
    "                            if int(row[0]) == 1:\n",
    "                                whiteMaleIncome.append(int(row[6]))\n",
    "                            if int(row[0]) == 2:\n",
    "                                whiteFemaleIncome.append(int(row[6]))"
   ]
  },
  {
   "cell_type": "code",
   "execution_count": 20,
   "metadata": {},
   "outputs": [
    {
     "name": "stdout",
     "output_type": "stream",
     "text": [
      "The two sample independent means, unequal variances, T test was significant at alpha= 0.05 where p= 0.9999  and t= -3.83 .\n",
      "Critical T:  -1.66 \n",
      "Mean Income for White Males:  60456.08 \n",
      "Mean Income for White Females:  30289.4\n"
     ]
    }
   ],
   "source": [
    "import random\n",
    "whiteMaleIncomeSample = random.sample(whiteMaleIncome, 50)\n",
    "whiteFemaleIncomeSample = random.sample(whiteFemaleIncome, 50)\n",
    "\n",
    "whiteMaleMean = getMean(whiteMaleIncomeSample)\n",
    "whiteFemaleMean = getMean(whiteFemaleIncomeSample)\n",
    "\n",
    "alpha = 0.05\n",
    "\n",
    "testType = 'one-tailed negative'\n",
    "\n",
    "sigBool, t, criticalT, p = significanceTest(whiteFemaleIncomeSample,\n",
    "                                            whiteMaleIncomeSample,\n",
    "                                            alpha, testType)\n",
    "if sigBool:\n",
    "    print('The two sample independent means, unequal variances, T test was significant at alpha=', alpha, \n",
    "         'where p=', round(1-p, 5), ' and t=', round(t, 2), \n",
    "         '.\\nCritical T: ', criticalT, \n",
    "         '\\nMean Income for White Males: ', round(whiteMaleMean, 2),\n",
    "         '\\nMean Income for White Females: ', round(whiteFemaleMean, 2))\n",
    "if not sigBool:\n",
    "    print('The two sample independent means, unequal variances, T test was NOT significant at alpha=', alpha, \n",
    "         'where p=', round(p, 5), ' and t=', round(t, 2), \n",
    "         '.\\nCritical T: ', criticalT, \n",
    "         '\\nMean Income for White Males: ', round(whiteMaleMean, 2),\n",
    "         '\\nMean Income for White Females: ', round(whiteFemaleMean, 2))   \n",
    "\n",
    "    \n",
    "## CIs\n",
    "whiteMaleLower, whiteMaleUpper, whiteMaleError = getCI(whiteMaleIncomeSample, alpha)\n",
    "whiteFemaleLower, whiteFemaleUpper, whiteFemaleError = getCI(whiteFemaleIncomeSample, alpha)"
   ]
  },
  {
   "cell_type": "code",
   "execution_count": 21,
   "metadata": {},
   "outputs": [
    {
     "data": {
      "image/png": "[encoded data removed]",
      "text/plain": [
       "<Figure size 640x480 with 1 Axes>"
      ]
     },
     "metadata": {},
     "output_type": "display_data"
    }
   ],
   "source": [
    "import matplotlib.pyplot as plt\n",
    "plt.style.use('bmh')\n",
    "labels = ['White Male Income', 'White Female Income']\n",
    "means = [whiteMaleMean, whiteFemaleMean]\n",
    "CIs = [whiteMaleError, whiteFemaleError]\n",
    "positions = [0, 1]\n",
    "\n",
    "plt.bar(positions, means, color='grey', yerr=CIs, width=0.5, \n",
    "        align='center', ecolor='black', capsize=5)\n",
    "plt.xlabel('Male and Female White')\n",
    "plt.ylabel('Mean Income($)')\n",
    "plt.title('Mean Income Across Male and Female White Americans')\n",
    "plt.xticks(positions, labels)\n",
    "plt.show()"
   ]
  },
  {
   "cell_type": "code",
   "execution_count": null,
   "metadata": {},
   "outputs": [],
   "source": []
  }
 ],
 "metadata": {
  "kernelspec": {
   "display_name": "Python 3",
   "language": "python",
   "name": "python3"
  },
  "language_info": {
   "codemirror_mode": {
    "name": "ipython",
    "version": 3
   },
   "file_extension": ".py",
   "mimetype": "text/x-python",
   "name": "python",
   "nbconvert_exporter": "python",
   "pygments_lexer": "ipython3",
   "version": "3.10.15"
  }
 },
 "nbformat": 4,
 "nbformat_minor": 4
}
