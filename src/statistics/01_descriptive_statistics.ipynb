{
 "cells": [
  {
   "cell_type": "markdown",
   "metadata": {},
   "source": [
    "# Descriptive Statistics"
   ]
  },
  {
   "cell_type": "code",
   "execution_count": 19,
   "metadata": {},
   "outputs": [],
   "source": [
    "import math\n",
    "import pandas as pd"
   ]
  },
  {
   "cell_type": "markdown",
   "metadata": {},
   "source": [
    "## Measure of cental tendency\n",
    "### Mean\n",
    "$$\\mu = \\frac{\\sum  x_{i}}{N}$$"
   ]
  },
  {
   "cell_type": "code",
   "execution_count": 20,
   "metadata": {},
   "outputs": [
    {
     "name": "stdout",
     "output_type": "stream",
     "text": [
      "Mean: 3.0\n"
     ]
    }
   ],
   "source": [
    "def mean(*args):\n",
    "    val_sum = sum(args)\n",
    "    mean_val = val_sum / len(args)\n",
    "    return mean_val\n",
    "print(f\"Mean: {mean(1, 2, 3, 4, 5)}\")"
   ]
  },
  {
   "cell_type": "markdown",
   "metadata": {},
   "source": [
    "### Median\n",
    "The median of a dataset is defined as the value that separates the higher half from the lower half of the data. \n",
    "\n",
    "- If the number of data points $n$ is **odd**, the median is the middle value: <br>\n",
    "  $$\\text{Median} = x_{\\left(\\frac{n+1}{2}\\right)} $$\n",
    "\n",
    "- If the number of data points \\(n\\) is **even**, the median is the average of the two middle values: <br>\n",
    "\n",
    "  $$\\text{Median} = \\frac{x_{\\left(\\frac{n}{2}\\right)} + x_{\\left(\\frac{n}{2} + 1\\right)}}{2}$$\n",
    "  "
   ]
  },
  {
   "cell_type": "code",
   "execution_count": 21,
   "metadata": {},
   "outputs": [
    {
     "name": "stdout",
     "output_type": "stream",
     "text": [
      "Median: 4.5\n"
     ]
    }
   ],
   "source": [
    "def median(*args):\n",
    "    args = sorted(args)\n",
    "    if len(args) % 2 == 0:\n",
    "        i = round((len(args) + 1) / 2)\n",
    "        j = i - 1\n",
    "        return (args[i] + args[j]) / 2\n",
    "    else:\n",
    "        k = round(len(args) / 2)\n",
    "        return args[k]\n",
    "print(f\"Median: {median(1, 2, 3, 4, 5, 6)}\")"
   ]
  },
  {
   "cell_type": "markdown",
   "metadata": {},
   "source": [
    "### Mode\n",
    "\n",
    "The mode of a dataset is the value that appears **most frequently**. \n",
    "\n",
    "- For a given dataset $ x_1, x_2, \\dots, x_n $, the mode is the value $ x $ that occurs with the highest frequency. In other words:\n",
    "  \n",
    "  $$\n",
    "  \\text{Mode} = \\underset{x}{\\text{argmax}} \\ f(x)\n",
    "  $$\n",
    "\n",
    "  where $ f(x) $ represents the frequency of value $ x $ in the dataset.\n",
    "  \n",
    "- A dataset can be:\n",
    "  - **Unimodal**: If there is only one mode.\n",
    "  - **Bimodal**: If there are two modes.\n",
    "  - **Multimodal**: If there are more than two modes."
   ]
  },
  {
   "cell_type": "code",
   "execution_count": 22,
   "metadata": {},
   "outputs": [
    {
     "name": "stdout",
     "output_type": "stream",
     "text": [
      "Mode: [4, 5]\n"
     ]
    }
   ],
   "source": [
    "def mode(*args):\n",
    "    # Count how many times values show up in the list and put it in a dictionary\n",
    "    dict_vals = {i: args.count(i) for i in args}\n",
    "    # Create a list of keys that have the maximum number of occurrence in the list\n",
    "    max_list = [k for k, v in dict_vals.items() if v == max(dict_vals.values())]\n",
    "    return max_list\n",
    "print(f\"Mode: {mode(1, 2, 3, 4, 5, 5, 4)}\")"
   ]
  },
  {
   "cell_type": "markdown",
   "metadata": {},
   "source": [
    "## Measure of variability\n",
    "### Variance\n",
    "\n",
    "Variance measures how far the values in a dataset spread out from the mean (average).  It is the average of the squared differences from the mean.\n",
    "\n",
    "- For a dataset $x_1, x_2, \\dots, x_n$, the variance $\\sigma^2$ is given by:\n",
    "\n",
    "  $$\n",
    "  \\sigma^2 = \\frac{1}{n} \\sum_{i=1}^{n} (x_i - \\mu)^2\n",
    "  $$\n",
    "\n",
    "  where:\n",
    "  - $n$ is the number of data points,\n",
    "  - $x_i$ is the $i$-th data point,\n",
    "  - $\\mu$ is the mean of the dataset.\n",
    "\n",
    "- For a sample variance (used when data is a sample from a larger population), the formula is:\n",
    "\n",
    "  $$\n",
    "  s^2 = \\frac{1}{n-1} \\sum_{i=1}^{n} (x_i - \\bar{x})^2\n",
    "  $$\n",
    "\n",
    "  where:\n",
    "  - $\\bar{x}$ is the sample mean,\n",
    "  - $n - 1$ is used instead of $n$ for an unbiased estimate of population variance."
   ]
  },
  {
   "cell_type": "code",
   "execution_count": 23,
   "metadata": {},
   "outputs": [
    {
     "name": "stdout",
     "output_type": "stream",
     "text": [
      "Variance: 2.5\n"
     ]
    }
   ],
   "source": [
    "def variance(*args):\n",
    "    mean_val = mean(*args)\n",
    "    numerator = 0\n",
    "    for i in args:\n",
    "        numerator += (i - mean_val) ** 2\n",
    "    denominator = len(args) - 1\n",
    "    return numerator / denominator\n",
    "\n",
    "print(f\"Variance: {variance(4, 6, 3, 5, 2)}\")"
   ]
  },
  {
   "cell_type": "markdown",
   "metadata": {},
   "source": [
    "### Standard Deviation\n",
    "\n",
    "The standard deviation is the square root of the variance. It measures the average distance of each data point from the mean.\n",
    "- Because of Squared values variance gives extra weight to outliers\n",
    "- It is a more interpretable measure of spread because it is expressed in the same units as the data.\n",
    "- larger standard deviation = larger spread\n",
    "\n",
    "- For a population standard deviation:\n",
    "\n",
    "  $$\n",
    "  \\sigma = \\sqrt{\\sigma^2}\n",
    "  $$\n",
    "\n",
    "  where $\\sigma^2$ is the variance.\n",
    "\n",
    "- For a sample standard deviation:\n",
    "\n",
    "  $$\n",
    "  s = \\sqrt{s^2}\n",
    "  $$\n",
    "\n",
    "  where $s^2$ is the sample variance."
   ]
  },
  {
   "cell_type": "code",
   "execution_count": 24,
   "metadata": {},
   "outputs": [
    {
     "name": "stdout",
     "output_type": "stream",
     "text": [
      "Standard Deviation: 1.5811388300841898\n"
     ]
    }
   ],
   "source": [
    "def standard_deviation(*args):\n",
    "    return math.sqrt(variance(*args))\n",
    "\n",
    "print(f\"Standard Deviation: {standard_deviation(4, 6, 3, 5, 2)}\")"
   ]
  },
  {
   "cell_type": "markdown",
   "metadata": {},
   "source": [
    "### Coefficient Variation\n",
    "The Coefficient of Variation (CV) measures the relative variability of a dataset by comparing the standard deviation to the mean. It is expressed as a percentage, allowing for comparison across different datasets.\n",
    "\n",
    "$$\n",
    "\\text{CV} = \\frac{\\sigma}{\\mu} \\times 100\\%\n",
    "$$\n",
    "\n",
    "Where:\n",
    "- $\\sigma$ = standard deviation\n",
    "- $\\mu$ = mean of the dataset"
   ]
  },
  {
   "cell_type": "code",
   "execution_count": 25,
   "metadata": {},
   "outputs": [
    {
     "name": "stdout",
     "output_type": "stream",
     "text": [
      "CV (miles): 0.17213259316477408\n",
      "CV (kms): 0.17214686292344047\n"
     ]
    }
   ],
   "source": [
    "def coefficient_variation(*args):\n",
    "    return standard_deviation(*args) / mean(*args)\n",
    "\n",
    "print(f\"CV (miles): {coefficient_variation(3, 4, 4.5, 3.5)}\")\n",
    "print(f\"CV (kms): {coefficient_variation(4.828, 6.437, 7.242, 5.632)}\")"
   ]
  },
  {
   "cell_type": "markdown",
   "metadata": {},
   "source": [
    "### Covariance\n",
    "\n",
    "Covariance is a measure of the degree to which two random variables change together. It indicates the direction of the linear relationship between the variables.\n",
    "\n",
    "#### Formula\n",
    "\n",
    "For two random variables $X$ and $Y$, the covariance is calculated as:\n",
    "\n",
    "$$\n",
    "\\text{Cov}(X, Y) = \\frac{1}{n} \\sum_{i=1}^{n} (x_i - \\mu_X)(y_i - \\mu_Y)\n",
    "$$\n",
    "\n",
    "where:\n",
    "- $n$ is the number of data points,\n",
    "- $x_i$ and $y_i$ are the individual sample points,\n",
    "- $\\mu_X$ is the mean of variable $X$,\n",
    "- $\\mu_Y$ is the mean of variable $Y$.\n",
    "\n",
    "#### Interpretation\n",
    "- A **positive covariance** indicates that as one variable increases, the other tends to increase as well.\n",
    "- A **negative covariance** indicates that as one variable increases, the other tends to decrease.\n",
    "- A covariance close to zero suggests that the variables do not have a linear relationship."
   ]
  },
  {
   "cell_type": "code",
   "execution_count": 26,
   "metadata": {},
   "outputs": [
    {
     "name": "stdout",
     "output_type": "stream",
     "text": [
      "Stock covariance: 5803.200000000001\n"
     ]
    }
   ],
   "source": [
    "def covariance(*args):\n",
    "    # Use a list comprehension to get all values stored in the 1st & 2nd list\n",
    "    list_1 = [i[0] for i in args]\n",
    "    list_2 = [i[1] for i in args]\n",
    "    # Pass those lists to get their means\n",
    "    list_1_mean = mean(*list_1[0])\n",
    "    list_2_mean = mean(*list_2[0])\n",
    "    numerator = 0\n",
    " \n",
    "    # We must have the same number of elements in both lists\n",
    "    if len(list_1[0]) == len(list_2[0]):\n",
    "        for i in range(len(list_1[0])):\n",
    "            # FInd xi - x mean * yi - y mean\n",
    "            numerator += (list_1[0][i] - list_1_mean) * (list_2[0][i] - list_2_mean)\n",
    "        denominator = len(list_1[0]) - 1\n",
    "        return numerator / denominator\n",
    "    else:\n",
    "        print(\"Error : You must have the same number of values in both lists\")\n",
    "\n",
    "market_cap_earnings_arr = [[1532, 1488, 1343, 928, 615], [58, 35, 75, 41, 17]]\n",
    "print(f\"Stock covariance: {covariance(market_cap_earnings_arr)}\")\n",
    " "
   ]
  },
  {
   "cell_type": "markdown",
   "metadata": {},
   "source": [
    "### Correlation Coefficients\n",
    "\n",
    "Correlation measures the strength and direction of a linear relationship between two variables. It is quantified by the correlation coefficient, often represented as $r$.\n",
    "\n",
    "The formula for Pearson's correlation coefficient is:\n",
    "\n",
    "$$\n",
    "r = \\frac{\\sum (x_i - \\bar{x})(y_i - \\bar{y})}{\\sqrt{\\sum (x_i - \\bar{x})^2 \\sum (y_i - \\bar{y})^2}}\n",
    "$$\n",
    "\n",
    "Where:\n",
    "- $x_i$ and $y_i$ are individual sample points.\n",
    "- $\\bar{x}$ is the mean of variable $X$.\n",
    "- $\\bar{y}$ is the mean of variable $Y$.\n",
    "\n",
    "The value of $r$ ranges from $-1$ to $1$:\n",
    "- $r = 1$: Perfect positive correlation.\n",
    "- $r = -1$: Perfect negative correlation.\n",
    "- $r = 0$: No correlation."
   ]
  },
  {
   "cell_type": "code",
   "execution_count": 27,
   "metadata": {},
   "outputs": [
    {
     "name": "stdout",
     "output_type": "stream",
     "text": [
      "L1 SD : 396.2508044155873\n",
      "L2 SD : 22.185580902919806\n",
      "Stock correlation coefficient: 0.660125602195931\n"
     ]
    }
   ],
   "source": [
    "def correlation_coefficient(*args):\n",
    "    list_1 = [i[0] for i in args]\n",
    "    list_2 = [i[1] for i in args]\n",
    "    # Pass those lists to get their standard deviations\n",
    "    list_1_sd = standard_deviation(*list_1[0])\n",
    "    list_2_sd = standard_deviation(*list_2[0])\n",
    "    print(f\"L1 SD : {list_1_sd}\")\n",
    "    print(f\"L2 SD : {list_2_sd}\")\n",
    "    denominator = list_1_sd * list_2_sd\n",
    "    # Get the covariance\n",
    "    numerator = covariance(*args)\n",
    "    return numerator / denominator\n",
    "    \n",
    "market_cap_earnings_arr = [[1532, 1488, 1343, 928, 615], [58, 35, 75, 41, 17]]\n",
    "print(f\"Stock correlation coefficient: {correlation_coefficient(market_cap_earnings_arr)}\")"
   ]
  },
  {
   "cell_type": "markdown",
   "metadata": {},
   "source": [
    "### Interquartile Range (IQR)\n",
    "\n",
    "The Interquartile Range (IQR) is a measure of statistical dispersion that represents the range within which the central 50% of the data points lie. It is calculated as the difference between the third quartile (Q3) and the first quartile (Q1). The IQR is useful for identifying outliers and understanding the spread of the middle half of the data.\n",
    "\n",
    "\n",
    "$$\n",
    "\\text{IQR} = Q3 - Q1\n",
    "$$\n",
    "\n",
    "Where:\n",
    "- \\( Q1 \\) = First Quartile (25th percentile)\n",
    "- \\( Q3 \\) = Third Quartile (75th percentile)"
   ]
  },
  {
   "cell_type": "code",
   "execution_count": 28,
   "metadata": {},
   "outputs": [
    {
     "name": "stdout",
     "output_type": "stream",
     "text": [
      "Sample Data: [10 15 14 20 18 25 30 35 28 22]\n",
      "First Quartile (Q1): 15.75\n",
      "Third Quartile (Q3): 27.25\n",
      "Interquartile Range (IQR): 11.5\n",
      "Lower Bound for Outliers: -1.5\n",
      "Upper Bound for Outliers: 44.5\n"
     ]
    }
   ],
   "source": [
    "# Creating a sample dataset\n",
    "data = {\n",
    "    \"Values\": [10, 15, 14, 20, 18, 25, 30, 35, 28, 22]\n",
    "}\n",
    "df = pd.DataFrame(data)\n",
    "\n",
    "# Calculate Q1 and Q3\n",
    "Q1 = df[\"Values\"].quantile(0.25)  # First Quartile (25th percentile)\n",
    "Q3 = df[\"Values\"].quantile(0.75)  # Third Quartile (75th percentile)\n",
    "\n",
    "# Calculate IQR\n",
    "IQR = Q3 - Q1\n",
    "\n",
    "# Calculate lower and upper bounds\n",
    "lower_bound = Q1 - 1.5 * IQR\n",
    "upper_bound = Q3 + 1.5 * IQR\n",
    "\n",
    "# Display the results\n",
    "print(\"Sample Data:\", df[\"Values\"].values)\n",
    "print(\"First Quartile (Q1):\", Q1)\n",
    "print(\"Third Quartile (Q3):\", Q3)\n",
    "print(\"Interquartile Range (IQR):\", IQR)\n",
    "print(\"Lower Bound for Outliers:\", lower_bound)\n",
    "print(\"Upper Bound for Outliers:\", upper_bound)"
   ]
  },
  {
   "cell_type": "markdown",
   "metadata": {},
   "source": []
  }
 ],
 "metadata": {
  "kernelspec": {
   "display_name": "Python 3",
   "language": "python",
   "name": "python3"
  },
  "language_info": {
   "codemirror_mode": {
    "name": "ipython",
    "version": 3
   },
   "file_extension": ".py",
   "mimetype": "text/x-python",
   "name": "python",
   "nbconvert_exporter": "python",
   "pygments_lexer": "ipython3",
   "version": "3.10.15"
  }
 },
 "nbformat": 4,
 "nbformat_minor": 2
}
